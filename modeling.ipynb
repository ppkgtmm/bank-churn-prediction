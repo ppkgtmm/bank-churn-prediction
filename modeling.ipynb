{
 "cells": [
  {
   "cell_type": "markdown",
   "id": "dd530c2b",
   "metadata": {},
   "source": [
    "### Import libraries"
   ]
  },
  {
   "cell_type": "code",
   "execution_count": 16,
   "id": "695f29c1",
   "metadata": {},
   "outputs": [],
   "source": [
    "import pandas as pd\n",
    "from constants import target_col as target_name, index_col as index_name\n",
    "from utilities import model_and_evaluate"
   ]
  },
  {
   "cell_type": "markdown",
   "id": "254b85ca",
   "metadata": {},
   "source": [
    "### Configure defaults"
   ]
  },
  {
   "cell_type": "code",
   "execution_count": 2,
   "id": "df0adb0f",
   "metadata": {},
   "outputs": [],
   "source": [
    "index_col = index_name.lower()\n",
    "target_col = [target_name]\n",
    "dt_algo = 'Decision Tree'\n",
    "rf_algo = 'Random Forest'"
   ]
  },
  {
   "cell_type": "markdown",
   "id": "9de2174b",
   "metadata": {},
   "source": [
    "### Read data"
   ]
  },
  {
   "cell_type": "code",
   "execution_count": 3,
   "id": "f6b3224d",
   "metadata": {},
   "outputs": [],
   "source": [
    "train_std = pd.read_csv('./outputs/std/train.csv').set_index(index_col)\n",
    "test_std = pd.read_csv('./outputs/std/test.csv').set_index(index_col)\n",
    "\n",
    "train_mm = pd.read_csv('./outputs/min_max/train.csv').set_index(index_col)\n",
    "test_mm = pd.read_csv('./outputs/min_max/test.csv').set_index(index_col)"
   ]
  },
  {
   "cell_type": "markdown",
   "id": "3f3d23c8",
   "metadata": {},
   "source": [
    "### Data check"
   ]
  },
  {
   "cell_type": "code",
   "execution_count": 4,
   "id": "6b71e0a2",
   "metadata": {},
   "outputs": [
    {
     "data": {
      "text/html": [
       "<div>\n",
       "<style scoped>\n",
       "    .dataframe tbody tr th:only-of-type {\n",
       "        vertical-align: middle;\n",
       "    }\n",
       "\n",
       "    .dataframe tbody tr th {\n",
       "        vertical-align: top;\n",
       "    }\n",
       "\n",
       "    .dataframe thead th {\n",
       "        text-align: right;\n",
       "    }\n",
       "</style>\n",
       "<table border=\"1\" class=\"dataframe\">\n",
       "  <thead>\n",
       "    <tr style=\"text-align: right;\">\n",
       "      <th></th>\n",
       "      <th>attrition_flag</th>\n",
       "      <th>gender_F</th>\n",
       "      <th>gender_M</th>\n",
       "      <th>customer_age</th>\n",
       "      <th>dependent_count</th>\n",
       "      <th>months_on_book</th>\n",
       "      <th>total_relationship_count</th>\n",
       "      <th>months_inactive_12_mon</th>\n",
       "      <th>contacts_count_12_mon</th>\n",
       "      <th>credit_limit</th>\n",
       "      <th>total_revolving_bal</th>\n",
       "      <th>total_amt_chng_q4_q1</th>\n",
       "      <th>total_trans_amt</th>\n",
       "      <th>total_trans_ct</th>\n",
       "      <th>total_ct_chng_q4_q1</th>\n",
       "      <th>avg_utilization_ratio</th>\n",
       "    </tr>\n",
       "    <tr>\n",
       "      <th>clientnum</th>\n",
       "      <th></th>\n",
       "      <th></th>\n",
       "      <th></th>\n",
       "      <th></th>\n",
       "      <th></th>\n",
       "      <th></th>\n",
       "      <th></th>\n",
       "      <th></th>\n",
       "      <th></th>\n",
       "      <th></th>\n",
       "      <th></th>\n",
       "      <th></th>\n",
       "      <th></th>\n",
       "      <th></th>\n",
       "      <th></th>\n",
       "      <th></th>\n",
       "    </tr>\n",
       "  </thead>\n",
       "  <tbody>\n",
       "    <tr>\n",
       "      <th>713796033</th>\n",
       "      <td>1</td>\n",
       "      <td>0</td>\n",
       "      <td>1</td>\n",
       "      <td>0.085971</td>\n",
       "      <td>-0.271041</td>\n",
       "      <td>0.761682</td>\n",
       "      <td>1.409797</td>\n",
       "      <td>0.661411</td>\n",
       "      <td>0.498335</td>\n",
       "      <td>-0.427523</td>\n",
       "      <td>-1.423834</td>\n",
       "      <td>-0.541924</td>\n",
       "      <td>-0.736571</td>\n",
       "      <td>-1.228105</td>\n",
       "      <td>-0.892927</td>\n",
       "      <td>-0.997729</td>\n",
       "    </tr>\n",
       "    <tr>\n",
       "      <th>771204108</th>\n",
       "      <td>0</td>\n",
       "      <td>1</td>\n",
       "      <td>0</td>\n",
       "      <td>-1.290336</td>\n",
       "      <td>-0.271041</td>\n",
       "      <td>-1.623249</td>\n",
       "      <td>-0.527633</td>\n",
       "      <td>-1.331855</td>\n",
       "      <td>-2.214038</td>\n",
       "      <td>-0.734047</td>\n",
       "      <td>0.023954</td>\n",
       "      <td>0.489055</td>\n",
       "      <td>-0.149068</td>\n",
       "      <td>0.092368</td>\n",
       "      <td>0.025604</td>\n",
       "      <td>1.201739</td>\n",
       "    </tr>\n",
       "    <tr>\n",
       "      <th>721399833</th>\n",
       "      <td>0</td>\n",
       "      <td>1</td>\n",
       "      <td>0</td>\n",
       "      <td>-0.414504</td>\n",
       "      <td>-0.271041</td>\n",
       "      <td>-0.242499</td>\n",
       "      <td>-0.527633</td>\n",
       "      <td>-1.331855</td>\n",
       "      <td>0.498335</td>\n",
       "      <td>-0.725459</td>\n",
       "      <td>-0.186031</td>\n",
       "      <td>0.543798</td>\n",
       "      <td>0.098177</td>\n",
       "      <td>0.901690</td>\n",
       "      <td>0.497510</td>\n",
       "      <td>0.811452</td>\n",
       "    </tr>\n",
       "    <tr>\n",
       "      <th>778601733</th>\n",
       "      <td>1</td>\n",
       "      <td>1</td>\n",
       "      <td>0</td>\n",
       "      <td>1.086921</td>\n",
       "      <td>0.499385</td>\n",
       "      <td>1.389296</td>\n",
       "      <td>0.763987</td>\n",
       "      <td>1.658044</td>\n",
       "      <td>0.498335</td>\n",
       "      <td>-0.653342</td>\n",
       "      <td>0.650224</td>\n",
       "      <td>-0.208908</td>\n",
       "      <td>-0.598231</td>\n",
       "      <td>-1.313297</td>\n",
       "      <td>0.324759</td>\n",
       "      <td>1.296575</td>\n",
       "    </tr>\n",
       "    <tr>\n",
       "      <th>714047733</th>\n",
       "      <td>0</td>\n",
       "      <td>1</td>\n",
       "      <td>0</td>\n",
       "      <td>0.836684</td>\n",
       "      <td>0.499385</td>\n",
       "      <td>1.138250</td>\n",
       "      <td>-1.173443</td>\n",
       "      <td>-0.335222</td>\n",
       "      <td>-1.309914</td>\n",
       "      <td>-0.405063</td>\n",
       "      <td>1.178255</td>\n",
       "      <td>-0.190661</td>\n",
       "      <td>0.899960</td>\n",
       "      <td>0.859094</td>\n",
       "      <td>-0.454728</td>\n",
       "      <td>0.567066</td>\n",
       "    </tr>\n",
       "  </tbody>\n",
       "</table>\n",
       "</div>"
      ],
      "text/plain": [
       "           attrition_flag  gender_F  gender_M  customer_age  dependent_count  \\\n",
       "clientnum                                                                      \n",
       "713796033               1         0         1      0.085971        -0.271041   \n",
       "771204108               0         1         0     -1.290336        -0.271041   \n",
       "721399833               0         1         0     -0.414504        -0.271041   \n",
       "778601733               1         1         0      1.086921         0.499385   \n",
       "714047733               0         1         0      0.836684         0.499385   \n",
       "\n",
       "           months_on_book  total_relationship_count  months_inactive_12_mon  \\\n",
       "clientnum                                                                     \n",
       "713796033        0.761682                  1.409797                0.661411   \n",
       "771204108       -1.623249                 -0.527633               -1.331855   \n",
       "721399833       -0.242499                 -0.527633               -1.331855   \n",
       "778601733        1.389296                  0.763987                1.658044   \n",
       "714047733        1.138250                 -1.173443               -0.335222   \n",
       "\n",
       "           contacts_count_12_mon  credit_limit  total_revolving_bal  \\\n",
       "clientnum                                                             \n",
       "713796033               0.498335     -0.427523            -1.423834   \n",
       "771204108              -2.214038     -0.734047             0.023954   \n",
       "721399833               0.498335     -0.725459            -0.186031   \n",
       "778601733               0.498335     -0.653342             0.650224   \n",
       "714047733              -1.309914     -0.405063             1.178255   \n",
       "\n",
       "           total_amt_chng_q4_q1  total_trans_amt  total_trans_ct  \\\n",
       "clientnum                                                          \n",
       "713796033             -0.541924        -0.736571       -1.228105   \n",
       "771204108              0.489055        -0.149068        0.092368   \n",
       "721399833              0.543798         0.098177        0.901690   \n",
       "778601733             -0.208908        -0.598231       -1.313297   \n",
       "714047733             -0.190661         0.899960        0.859094   \n",
       "\n",
       "           total_ct_chng_q4_q1  avg_utilization_ratio  \n",
       "clientnum                                              \n",
       "713796033            -0.892927              -0.997729  \n",
       "771204108             0.025604               1.201739  \n",
       "721399833             0.497510               0.811452  \n",
       "778601733             0.324759               1.296575  \n",
       "714047733            -0.454728               0.567066  "
      ]
     },
     "execution_count": 4,
     "metadata": {},
     "output_type": "execute_result"
    }
   ],
   "source": [
    "train_std.head()"
   ]
  },
  {
   "cell_type": "code",
   "execution_count": 5,
   "id": "46aabba3",
   "metadata": {},
   "outputs": [
    {
     "data": {
      "text/html": [
       "<div>\n",
       "<style scoped>\n",
       "    .dataframe tbody tr th:only-of-type {\n",
       "        vertical-align: middle;\n",
       "    }\n",
       "\n",
       "    .dataframe tbody tr th {\n",
       "        vertical-align: top;\n",
       "    }\n",
       "\n",
       "    .dataframe thead th {\n",
       "        text-align: right;\n",
       "    }\n",
       "</style>\n",
       "<table border=\"1\" class=\"dataframe\">\n",
       "  <thead>\n",
       "    <tr style=\"text-align: right;\">\n",
       "      <th></th>\n",
       "      <th>attrition_flag</th>\n",
       "      <th>gender_F</th>\n",
       "      <th>gender_M</th>\n",
       "      <th>customer_age</th>\n",
       "      <th>dependent_count</th>\n",
       "      <th>months_on_book</th>\n",
       "      <th>total_relationship_count</th>\n",
       "      <th>months_inactive_12_mon</th>\n",
       "      <th>contacts_count_12_mon</th>\n",
       "      <th>credit_limit</th>\n",
       "      <th>total_revolving_bal</th>\n",
       "      <th>total_amt_chng_q4_q1</th>\n",
       "      <th>total_trans_amt</th>\n",
       "      <th>total_trans_ct</th>\n",
       "      <th>total_ct_chng_q4_q1</th>\n",
       "      <th>avg_utilization_ratio</th>\n",
       "    </tr>\n",
       "    <tr>\n",
       "      <th>clientnum</th>\n",
       "      <th></th>\n",
       "      <th></th>\n",
       "      <th></th>\n",
       "      <th></th>\n",
       "      <th></th>\n",
       "      <th></th>\n",
       "      <th></th>\n",
       "      <th></th>\n",
       "      <th></th>\n",
       "      <th></th>\n",
       "      <th></th>\n",
       "      <th></th>\n",
       "      <th></th>\n",
       "      <th></th>\n",
       "      <th></th>\n",
       "      <th></th>\n",
       "    </tr>\n",
       "  </thead>\n",
       "  <tbody>\n",
       "    <tr>\n",
       "      <th>713796033</th>\n",
       "      <td>1</td>\n",
       "      <td>0</td>\n",
       "      <td>1</td>\n",
       "      <td>0.446809</td>\n",
       "      <td>0.4</td>\n",
       "      <td>0.674419</td>\n",
       "      <td>1.0</td>\n",
       "      <td>0.500000</td>\n",
       "      <td>0.500000</td>\n",
       "      <td>0.099756</td>\n",
       "      <td>0.000000</td>\n",
       "      <td>0.188696</td>\n",
       "      <td>0.076306</td>\n",
       "      <td>0.201550</td>\n",
       "      <td>0.140017</td>\n",
       "      <td>0.000000</td>\n",
       "    </tr>\n",
       "    <tr>\n",
       "      <th>771204108</th>\n",
       "      <td>0</td>\n",
       "      <td>1</td>\n",
       "      <td>0</td>\n",
       "      <td>0.212766</td>\n",
       "      <td>0.4</td>\n",
       "      <td>0.232558</td>\n",
       "      <td>0.4</td>\n",
       "      <td>0.166667</td>\n",
       "      <td>0.000000</td>\n",
       "      <td>0.015591</td>\n",
       "      <td>0.468415</td>\n",
       "      <td>0.255225</td>\n",
       "      <td>0.187479</td>\n",
       "      <td>0.441860</td>\n",
       "      <td>0.201064</td>\n",
       "      <td>0.603604</td>\n",
       "    </tr>\n",
       "    <tr>\n",
       "      <th>721399833</th>\n",
       "      <td>0</td>\n",
       "      <td>1</td>\n",
       "      <td>0</td>\n",
       "      <td>0.361702</td>\n",
       "      <td>0.4</td>\n",
       "      <td>0.488372</td>\n",
       "      <td>0.4</td>\n",
       "      <td>0.166667</td>\n",
       "      <td>0.500000</td>\n",
       "      <td>0.017949</td>\n",
       "      <td>0.400477</td>\n",
       "      <td>0.258758</td>\n",
       "      <td>0.234265</td>\n",
       "      <td>0.589147</td>\n",
       "      <td>0.232428</td>\n",
       "      <td>0.496496</td>\n",
       "    </tr>\n",
       "    <tr>\n",
       "      <th>778601733</th>\n",
       "      <td>1</td>\n",
       "      <td>1</td>\n",
       "      <td>0</td>\n",
       "      <td>0.617021</td>\n",
       "      <td>0.6</td>\n",
       "      <td>0.790698</td>\n",
       "      <td>0.8</td>\n",
       "      <td>0.666667</td>\n",
       "      <td>0.500000</td>\n",
       "      <td>0.037751</td>\n",
       "      <td>0.671037</td>\n",
       "      <td>0.210185</td>\n",
       "      <td>0.102484</td>\n",
       "      <td>0.186047</td>\n",
       "      <td>0.220947</td>\n",
       "      <td>0.629630</td>\n",
       "    </tr>\n",
       "    <tr>\n",
       "      <th>714047733</th>\n",
       "      <td>0</td>\n",
       "      <td>1</td>\n",
       "      <td>0</td>\n",
       "      <td>0.574468</td>\n",
       "      <td>0.6</td>\n",
       "      <td>0.744186</td>\n",
       "      <td>0.2</td>\n",
       "      <td>0.333333</td>\n",
       "      <td>0.166667</td>\n",
       "      <td>0.105923</td>\n",
       "      <td>0.841875</td>\n",
       "      <td>0.211363</td>\n",
       "      <td>0.385986</td>\n",
       "      <td>0.581395</td>\n",
       "      <td>0.169140</td>\n",
       "      <td>0.429429</td>\n",
       "    </tr>\n",
       "  </tbody>\n",
       "</table>\n",
       "</div>"
      ],
      "text/plain": [
       "           attrition_flag  gender_F  gender_M  customer_age  dependent_count  \\\n",
       "clientnum                                                                      \n",
       "713796033               1         0         1      0.446809              0.4   \n",
       "771204108               0         1         0      0.212766              0.4   \n",
       "721399833               0         1         0      0.361702              0.4   \n",
       "778601733               1         1         0      0.617021              0.6   \n",
       "714047733               0         1         0      0.574468              0.6   \n",
       "\n",
       "           months_on_book  total_relationship_count  months_inactive_12_mon  \\\n",
       "clientnum                                                                     \n",
       "713796033        0.674419                       1.0                0.500000   \n",
       "771204108        0.232558                       0.4                0.166667   \n",
       "721399833        0.488372                       0.4                0.166667   \n",
       "778601733        0.790698                       0.8                0.666667   \n",
       "714047733        0.744186                       0.2                0.333333   \n",
       "\n",
       "           contacts_count_12_mon  credit_limit  total_revolving_bal  \\\n",
       "clientnum                                                             \n",
       "713796033               0.500000      0.099756             0.000000   \n",
       "771204108               0.000000      0.015591             0.468415   \n",
       "721399833               0.500000      0.017949             0.400477   \n",
       "778601733               0.500000      0.037751             0.671037   \n",
       "714047733               0.166667      0.105923             0.841875   \n",
       "\n",
       "           total_amt_chng_q4_q1  total_trans_amt  total_trans_ct  \\\n",
       "clientnum                                                          \n",
       "713796033              0.188696         0.076306        0.201550   \n",
       "771204108              0.255225         0.187479        0.441860   \n",
       "721399833              0.258758         0.234265        0.589147   \n",
       "778601733              0.210185         0.102484        0.186047   \n",
       "714047733              0.211363         0.385986        0.581395   \n",
       "\n",
       "           total_ct_chng_q4_q1  avg_utilization_ratio  \n",
       "clientnum                                              \n",
       "713796033             0.140017               0.000000  \n",
       "771204108             0.201064               0.603604  \n",
       "721399833             0.232428               0.496496  \n",
       "778601733             0.220947               0.629630  \n",
       "714047733             0.169140               0.429429  "
      ]
     },
     "execution_count": 5,
     "metadata": {},
     "output_type": "execute_result"
    }
   ],
   "source": [
    "train_mm.head()"
   ]
  },
  {
   "cell_type": "code",
   "execution_count": 6,
   "id": "cec5133c",
   "metadata": {},
   "outputs": [
    {
     "name": "stdout",
     "output_type": "stream",
     "text": [
      "Standardized train set shape: (8607, 16) test set shape: (1520, 16)\n",
      "MinMax scaled train set shape: (8607, 16) test set shape: (1520, 16)\n"
     ]
    }
   ],
   "source": [
    "print('Standardized train set shape:', train_std.shape, 'test set shape:', test_std.shape)\n",
    "print('MinMax scaled train set shape:', train_mm.shape, 'test set shape:', test_mm.shape)"
   ]
  },
  {
   "cell_type": "code",
   "execution_count": 7,
   "id": "076130ca",
   "metadata": {
    "scrolled": true
   },
   "outputs": [
    {
     "name": "stdout",
     "output_type": "stream",
     "text": [
      "NA count by column\n"
     ]
    },
    {
     "data": {
      "text/html": [
       "<div>\n",
       "<style scoped>\n",
       "    .dataframe tbody tr th:only-of-type {\n",
       "        vertical-align: middle;\n",
       "    }\n",
       "\n",
       "    .dataframe tbody tr th {\n",
       "        vertical-align: top;\n",
       "    }\n",
       "\n",
       "    .dataframe thead th {\n",
       "        text-align: right;\n",
       "    }\n",
       "</style>\n",
       "<table border=\"1\" class=\"dataframe\">\n",
       "  <thead>\n",
       "    <tr style=\"text-align: right;\">\n",
       "      <th></th>\n",
       "      <th>attrition_flag</th>\n",
       "      <th>gender_F</th>\n",
       "      <th>gender_M</th>\n",
       "      <th>customer_age</th>\n",
       "      <th>dependent_count</th>\n",
       "      <th>months_on_book</th>\n",
       "      <th>total_relationship_count</th>\n",
       "      <th>months_inactive_12_mon</th>\n",
       "      <th>contacts_count_12_mon</th>\n",
       "      <th>credit_limit</th>\n",
       "      <th>total_revolving_bal</th>\n",
       "      <th>total_amt_chng_q4_q1</th>\n",
       "      <th>total_trans_amt</th>\n",
       "      <th>total_trans_ct</th>\n",
       "      <th>total_ct_chng_q4_q1</th>\n",
       "      <th>avg_utilization_ratio</th>\n",
       "    </tr>\n",
       "  </thead>\n",
       "  <tbody>\n",
       "    <tr>\n",
       "      <th>train_standardized</th>\n",
       "      <td>0</td>\n",
       "      <td>0</td>\n",
       "      <td>0</td>\n",
       "      <td>0</td>\n",
       "      <td>0</td>\n",
       "      <td>0</td>\n",
       "      <td>0</td>\n",
       "      <td>0</td>\n",
       "      <td>0</td>\n",
       "      <td>0</td>\n",
       "      <td>0</td>\n",
       "      <td>0</td>\n",
       "      <td>0</td>\n",
       "      <td>0</td>\n",
       "      <td>0</td>\n",
       "      <td>0</td>\n",
       "    </tr>\n",
       "    <tr>\n",
       "      <th>test_standardized</th>\n",
       "      <td>0</td>\n",
       "      <td>0</td>\n",
       "      <td>0</td>\n",
       "      <td>0</td>\n",
       "      <td>0</td>\n",
       "      <td>0</td>\n",
       "      <td>0</td>\n",
       "      <td>0</td>\n",
       "      <td>0</td>\n",
       "      <td>0</td>\n",
       "      <td>0</td>\n",
       "      <td>0</td>\n",
       "      <td>0</td>\n",
       "      <td>0</td>\n",
       "      <td>0</td>\n",
       "      <td>0</td>\n",
       "    </tr>\n",
       "    <tr>\n",
       "      <th>train_minmax</th>\n",
       "      <td>0</td>\n",
       "      <td>0</td>\n",
       "      <td>0</td>\n",
       "      <td>0</td>\n",
       "      <td>0</td>\n",
       "      <td>0</td>\n",
       "      <td>0</td>\n",
       "      <td>0</td>\n",
       "      <td>0</td>\n",
       "      <td>0</td>\n",
       "      <td>0</td>\n",
       "      <td>0</td>\n",
       "      <td>0</td>\n",
       "      <td>0</td>\n",
       "      <td>0</td>\n",
       "      <td>0</td>\n",
       "    </tr>\n",
       "    <tr>\n",
       "      <th>test_minmax</th>\n",
       "      <td>0</td>\n",
       "      <td>0</td>\n",
       "      <td>0</td>\n",
       "      <td>0</td>\n",
       "      <td>0</td>\n",
       "      <td>0</td>\n",
       "      <td>0</td>\n",
       "      <td>0</td>\n",
       "      <td>0</td>\n",
       "      <td>0</td>\n",
       "      <td>0</td>\n",
       "      <td>0</td>\n",
       "      <td>0</td>\n",
       "      <td>0</td>\n",
       "      <td>0</td>\n",
       "      <td>0</td>\n",
       "    </tr>\n",
       "  </tbody>\n",
       "</table>\n",
       "</div>"
      ],
      "text/plain": [
       "                    attrition_flag  gender_F  gender_M  customer_age  \\\n",
       "train_standardized               0         0         0             0   \n",
       "test_standardized                0         0         0             0   \n",
       "train_minmax                     0         0         0             0   \n",
       "test_minmax                      0         0         0             0   \n",
       "\n",
       "                    dependent_count  months_on_book  total_relationship_count  \\\n",
       "train_standardized                0               0                         0   \n",
       "test_standardized                 0               0                         0   \n",
       "train_minmax                      0               0                         0   \n",
       "test_minmax                       0               0                         0   \n",
       "\n",
       "                    months_inactive_12_mon  contacts_count_12_mon  \\\n",
       "train_standardized                       0                      0   \n",
       "test_standardized                        0                      0   \n",
       "train_minmax                             0                      0   \n",
       "test_minmax                              0                      0   \n",
       "\n",
       "                    credit_limit  total_revolving_bal  total_amt_chng_q4_q1  \\\n",
       "train_standardized             0                    0                     0   \n",
       "test_standardized              0                    0                     0   \n",
       "train_minmax                   0                    0                     0   \n",
       "test_minmax                    0                    0                     0   \n",
       "\n",
       "                    total_trans_amt  total_trans_ct  total_ct_chng_q4_q1  \\\n",
       "train_standardized                0               0                    0   \n",
       "test_standardized                 0               0                    0   \n",
       "train_minmax                      0               0                    0   \n",
       "test_minmax                       0               0                    0   \n",
       "\n",
       "                    avg_utilization_ratio  \n",
       "train_standardized                      0  \n",
       "test_standardized                       0  \n",
       "train_minmax                            0  \n",
       "test_minmax                             0  "
      ]
     },
     "execution_count": 7,
     "metadata": {},
     "output_type": "execute_result"
    }
   ],
   "source": [
    "print('NA count by column')\n",
    "\n",
    "NA_df = pd.DataFrame()\n",
    "NA_df['train_standardized'] = train_std.isna().sum()\n",
    "NA_df['test_standardized'] = test_std.isna().sum()\n",
    "NA_df['train_minmax'] = train_mm.isna().sum()\n",
    "NA_df['test_minmax'] = test_mm.isna().sum()\n",
    "NA_df.T"
   ]
  },
  {
   "cell_type": "markdown",
   "id": "070f316d",
   "metadata": {},
   "source": [
    "### Separate target"
   ]
  },
  {
   "cell_type": "code",
   "execution_count": 17,
   "id": "263f73a3",
   "metadata": {},
   "outputs": [],
   "source": [
    "X_train_std, y_train_std = train_std.drop(columns=target_col), train_std[target_col]\n",
    "X_test_std, y_test_std = test_std.drop(columns=target_col), test_std[target_col]\n",
    "\n",
    "X_train_mm, y_train_mm = train_mm.drop(columns=target_col), train_mm[target_col]\n",
    "X_test_mm, y_test_mm = test_mm.drop(columns=target_col), test_mm[target_col]"
   ]
  },
  {
   "cell_type": "code",
   "execution_count": 18,
   "id": "73f58974",
   "metadata": {},
   "outputs": [
    {
     "name": "stdout",
     "output_type": "stream",
     "text": [
      "Decision Tree with standardized input\n",
      "\n",
      "              precision    recall  f1-score   support\n",
      "\n",
      "           0       0.97      0.96      0.96      1276\n",
      "           1       0.80      0.85      0.82       244\n",
      "\n",
      "    accuracy                           0.94      1520\n",
      "   macro avg       0.88      0.90      0.89      1520\n",
      "weighted avg       0.94      0.94      0.94      1520\n",
      " \n",
      "\n"
     ]
    },
    {
     "data": {
      "image/png": "[encoded data removed]",
      "text/plain": [
       "<Figure size 432x288 with 2 Axes>"
      ]
     },
     "metadata": {
      "needs_background": "light"
     },
     "output_type": "display_data"
    },
    {
     "data": {
      "image/png": "[encoded data removed]",
      "text/plain": [
       "<Figure size 576x432 with 1 Axes>"
      ]
     },
     "metadata": {
      "needs_background": "light"
     },
     "output_type": "display_data"
    }
   ],
   "source": [
    "print('{} with standardized input\\n'.format(dt_algo))\n",
    "dt_std = model_and_evaluate(X_train_std, y_train_std, X_test_std, y_test_std, dt_algo)"
   ]
  },
  {
   "cell_type": "code",
   "execution_count": 19,
   "id": "2dd6e7ed",
   "metadata": {},
   "outputs": [
    {
     "name": "stdout",
     "output_type": "stream",
     "text": [
      "Decision Tree with minmax scaled input\n",
      "              precision    recall  f1-score   support\n",
      "\n",
      "           0       0.97      0.96      0.96      1276\n",
      "           1       0.80      0.84      0.82       244\n",
      "\n",
      "    accuracy                           0.94      1520\n",
      "   macro avg       0.88      0.90      0.89      1520\n",
      "weighted avg       0.94      0.94      0.94      1520\n",
      " \n",
      "\n"
     ]
    },
    {
     "data": {
      "image/png": "[encoded data removed]",
      "text/plain": [
       "<Figure size 432x288 with 2 Axes>"
      ]
     },
     "metadata": {
      "needs_background": "light"
     },
     "output_type": "display_data"
    },
    {
     "data": {
      "image/png": "[encoded data removed]",
      "text/plain": [
       "<Figure size 576x432 with 1 Axes>"
      ]
     },
     "metadata": {
      "needs_background": "light"
     },
     "output_type": "display_data"
    }
   ],
   "source": [
    "print('{} with minmax scaled input'.format(dt_algo))\n",
    "dt_mm = model_and_evaluate(X_train_mm, y_train_mm, X_test_mm, y_test_mm, dt_algo)"
   ]
  },
  {
   "cell_type": "code",
   "execution_count": 21,
   "id": "dcbe1255",
   "metadata": {},
   "outputs": [
    {
     "name": "stdout",
     "output_type": "stream",
     "text": [
      "Random Forest with standardized input\n",
      "\n"
     ]
    },
    {
     "name": "stderr",
     "output_type": "stream",
     "text": [
      "/Users/apple/Desktop/hello-hello/utilities/modeling.py:23: DataConversionWarning: A column-vector y was passed when a 1d array was expected. Please change the shape of y to (n_samples,), for example using ravel().\n",
      "  model = model(random_state=seed).fit(X_train, y_train)\n"
     ]
    },
    {
     "name": "stdout",
     "output_type": "stream",
     "text": [
      "              precision    recall  f1-score   support\n",
      "\n",
      "           0       0.97      0.98      0.98      1276\n",
      "           1       0.91      0.83      0.87       244\n",
      "\n",
      "    accuracy                           0.96      1520\n",
      "   macro avg       0.94      0.91      0.92      1520\n",
      "weighted avg       0.96      0.96      0.96      1520\n",
      " \n",
      "\n"
     ]
    },
    {
     "data": {
      "image/png": "[encoded data removed]",
      "text/plain": [
       "<Figure size 432x288 with 2 Axes>"
      ]
     },
     "metadata": {
      "needs_background": "light"
     },
     "output_type": "display_data"
    },
    {
     "data": {
      "image/png": "[encoded data removed]",
      "text/plain": [
       "<Figure size 576x432 with 1 Axes>"
      ]
     },
     "metadata": {
      "needs_background": "light"
     },
     "output_type": "display_data"
    }
   ],
   "source": [
    "print('{} with standardized input\\n'.format(rf_algo))\n",
    "dt_std = model_and_evaluate(X_train_std, y_train_std, X_test_std, y_test_std, rf_algo)"
   ]
  },
  {
   "cell_type": "code",
   "execution_count": null,
   "id": "78dc9a41",
   "metadata": {},
   "outputs": [],
   "source": []
  },
  {
   "cell_type": "code",
   "execution_count": 11,
   "id": "b09e85aa",
   "metadata": {},
   "outputs": [],
   "source": [
    "# print('\\nStandardized train set')\n",
    "# print(train_std.isna().sum())\n",
    "# print('\\nStandardized test set')\n",
    "# print(test_std.isna().sum())\n",
    "# print('\\nMinMax scaled train set')\n",
    "# print(train_mm.isna().sum())\n",
    "# print('\\nMinMax scaled test set')\n",
    "# print(test_mm.isna().sum())\n",
    "\n",
    "# dt_std = DecisionTreeClassifier().fit(X_train_std, y_train_std)\n",
    "# dt_std_pred = dt_std.predict(X_test_std)\n",
    "\n",
    "# print_evaluation_summary(y_test_std, dt_std_pred, dt_algo)\n",
    "\n",
    "# plot_feature_importance(dt_std.feature_importances_, dt_algo, X_train_std.columns)\n",
    "\n",
    "\n",
    "# dt_mm = DecisionTreeClassifier().fit(X_train_mm, y_train_mm)\n",
    "# dt_mm_pred = dt_mm.predict(X_test_mm)\n",
    "\n",
    "# print_evaluation_summary(y_test_mm, dt_mm_pred, dt_algo)\n",
    "\n",
    "# plot_feature_importance(dt_mm.feature_importances_, dt_algo, X_train_mm.columns)\n",
    "\n",
    "# type(X_test_mm)\n",
    "# from sklearn.tree import DecisionTreeClassifier\n",
    "# from sklearn.ensemble import RandomForestClassifier\n",
    "# from sklearn.linear_model import LogisticRegression\n",
    "# from sklearn.svm import SVC\n",
    "# from utilities import print_evaluation_summary, plot_feature_importance"
   ]
  }
 ],
 "metadata": {
  "kernelspec": {
   "display_name": "Python 3 (ipykernel)",
   "language": "python",
   "name": "python3"
  },
  "language_info": {
   "codemirror_mode": {
    "name": "ipython",
    "version": 3
   },
   "file_extension": ".py",
   "mimetype": "text/x-python",
   "name": "python",
   "nbconvert_exporter": "python",
   "pygments_lexer": "ipython3",
   "version": "3.9.7"
  }
 },
 "nbformat": 4,
 "nbformat_minor": 5
}
